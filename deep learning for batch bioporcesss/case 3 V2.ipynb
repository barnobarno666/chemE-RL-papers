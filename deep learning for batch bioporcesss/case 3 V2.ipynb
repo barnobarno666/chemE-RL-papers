{
 "cells": [
  {
   "cell_type": "code",
   "execution_count": 38,
   "metadata": {},
   "outputs": [],
   "source": []
  },
  {
   "cell_type": "code",
   "execution_count": 3,
   "metadata": {},
   "outputs": [],
   "source": [
    "\n",
    "\n",
    "class Notreal_normalized(gym.Env):\n",
    "    \"\"\" will remove the stoichastic part of the system \"\"\"\n",
    "    def __init__(self,render_mode=\"human\"):\n",
    "        super(Notreal_normalized, self).__init__()\n",
    "        # State is [y1, y2]\n",
    "        self.observation_space = spaces.Box(low=0, high=1, shape=(3,), dtype=np.float64)\n",
    "        \n",
    "        # Actions are [u1, u2], both in some control range\n",
    "        \n",
    "# Actions are [I, Fn] - Light Intensity and Inflow Rate\n",
    "        self.action_space = spaces.Box(low=0, high=1, dtype=np.float32)\n",
    "        \n",
    "                \n",
    "        \n",
    "        self.render_mode=\"human\"\n",
    "        # Time step for numerical integration\n",
    "        self.dt = 0.1\n",
    "        \n",
    "        # Initial values for state variables y1 and y2\n",
    "        #self.state = np.array([1, 1])  # You  set this based on the problem\n",
    "        self.state = np.array([1 , 150 , 0])\n",
    "        \n",
    "        self.um= .0572\n",
    "        self.ud=0.0\n",
    "        self.Kn= 393.1\n",
    "        self.Ynx=504.1\n",
    "        self.km=.000016\n",
    "        self.kd=0.281\n",
    "        self.ks=178.9\n",
    "        self.ki=447.1\n",
    "        self.ksq=23.51\n",
    "        self.kiq=800\n",
    "        self.Knp=16.89\n",
    "        \n",
    "        #the manipulated variables are light intelfnsity I and inflow rate Fn\n",
    "        \n",
    "        #values for normalizatrion\n",
    "        self.action_low = np.array([120, 0])\n",
    "        self.action_high = np.array([400, 40])\n",
    "        \n",
    "        \n",
    "        self.max_CX=1000\n",
    "        self.max_CN=10000\n",
    "        self.max_CQ=100\n",
    "        \n",
    "        \n",
    "        \n",
    "        self.max_episodes=1000\n",
    "        self.cureent_episode=0        \n",
    "        \n",
    "        \n",
    "        \n",
    "    def denormalize_action(self, action) -> np.ndarray:\n",
    "        \"\"\" Convert the normalized action [-1, 1] to the original scale [0, 400] and [0, 40] \"\"\"\n",
    "        \n",
    "        return 0.5 * (action + 1) * (self.action_high - self.action_low) + self.action_low\n",
    "\n",
    "            \n",
    "        \n",
    "    def normalize_state(self, state) -> np.ndarray:\n",
    "        \"\"\" Convert the state to a normalized form \"\"\"\n",
    "        return state / np.array([self.max_CX, self.max_CN, self.max_CQ])\n",
    "        \n",
    "    def dernomalize_state(self, state) -> np.ndarray:\n",
    "        \"\"\" Convert the state to a normalized form \"\"\"\n",
    "        return state * np.array([self.max_CX, self.max_CN, self.max_CQ])\n",
    "                \n",
    "        \n",
    "        \n",
    "        \n",
    "    def reset(self, seed=None, options=None):\n",
    "        # Reset the state to initial values\n",
    "        self.state = self.normalize_state(np.array([1, 150, 0]))\n",
    "        #self.state = np.array([1 , 150 , 0])\n",
    "        self.cureent_episode = 0\n",
    "        self.REWARD=0\n",
    "\n",
    "        # Return the observation and an empty info dictionary\n",
    "        return self.state  , {}\n",
    "        \n",
    "        #change self. state ?\n",
    "\n",
    "    \n",
    "\n",
    "\n",
    "    def step(self, action):\n",
    "        \n",
    "        L, Fn =  self.denormalize_action(action)\n",
    "        #L, Fn =  action\n",
    "\n",
    "        cx,cn,cq = self.dernomalize_state(self.state)\n",
    "        \n",
    "        \n",
    "        dt = self.dt\n",
    "        u_m=self.um\n",
    "        k_s=self.ks \n",
    "        K_N=self.Kn\n",
    "        k_i=self.ki\n",
    "        x=cx\n",
    "        n=cn \n",
    "        u_d=self.ud\n",
    "        Y_nx=self.Ynx\n",
    "        k_m=self.km\n",
    "        k_sq=self.ksq\n",
    "        k_iq=self.kiq\n",
    "        k_d=self.kd\n",
    "        q=cq\n",
    "        K_Np=self.Knp\n",
    "\n",
    "\n",
    "        \n",
    "                \n",
    "\n",
    "        dx   = u_m * L/(L+k_s+L**2./k_i) * x * n/(n+K_N) - u_d*x\n",
    "        dn   = - Y_nx*u_m* L/(L+k_s+L**2./k_i) * x * n/(n+K_N)+ Fn\n",
    "        dq   = (k_m * L/(L+k_sq+L**2./k_iq) * x - k_d * q/(n+K_Np)) * (np.sign(500. - n)+1)/2 * (np.sign(x - 10.0)+1)/2       \n",
    "         \n",
    "        # Update states\n",
    "        \n",
    "        cx+=(dx * dt)\n",
    "        cn+=(dn * dt)\n",
    "        cq+=(dq * dt)\n",
    "        \n",
    "        \n",
    "                \n",
    "        #so what is the sign function ? \n",
    "        \n",
    "        # Ensure non-negative concentrations\n",
    "        #y1 = max(0, y1)\n",
    "        #y2 = max(0, y2)\n",
    "        \n",
    "        self.state =self.normalize_state((np.array([cx,cn,cq])))\n",
    "        \n",
    "        # Reward is based on maximizing y2\n",
    "        reward = (dq*dt) *1000 if cq >  0 else 0\n",
    "        \n",
    "        \n",
    "        \n",
    "        # Done if the system has run too long or if values go out of bounds\n",
    "        done = False\n",
    "        \n",
    "       #changing the negative reward (Reducing it ) \n",
    "        if cn<0  or cx < 0 or cq < 0 :\n",
    "            reward = -5  #changeing the reward to -1 from -1000\n",
    "            done = True\n",
    "        \n",
    "        self.cureent_episode+=1\n",
    "        if self.cureent_episode>=self.max_episodes:\n",
    "            done = True\n",
    "            \n",
    "        #this is extra for the PPO case, im adding a negative reward at the end if Cq is 0 \n",
    "         \n",
    "        # if self.cureent_episode>=self.max_episodes -1 :\n",
    "        #     done = True\n",
    "        #     if cq==0:\n",
    "        #         reward=-10\n",
    "        \n",
    "        \n",
    "        self.REWARD+=reward\n",
    "        \n",
    "        return self.state, reward, done,False, {}\n",
    "    \n",
    "\n",
    "        # Optional rendering for visualization, not essential\n",
    "    def render(self):\n",
    "        if self.render_mode == \"human\":\n",
    "            print(f\"Current state: {self.dernomalize_state(self.state) } Total_Reward={self.REWARD} \")\n",
    "            return(str(\"Current state: {self.dernomalize_state(self.state) } Total_Reward={self.REWARD})\" ))\n",
    "            # You can add more sophisticated rendering here, such as creating a graphical window.\n",
    "        elif self.render_mode == \"rgb_array\":\n",
    "            # Return an RGB array representation if needed for video recording or display\n",
    "            pass\n",
    "        elif self.render_mode == \"ansi\":\n",
    "            return str(self.state)  # For text-based environments\n",
    "        \n",
    "        \n",
    "enviorment_N=Notreal()\n",
    "enviorment_N.reset()\n",
    "done=False"
   ]
  },
  {
   "cell_type": "code",
   "execution_count": 9,
   "metadata": {},
   "outputs": [],
   "source": [
    "import gymnasium as gym\n",
    "from stable_baselines3 import SAC\n",
    "from stable_baselines3.common.callbacks import BaseCallback\n",
    "\n",
    "# class RenderCallback(BaseCallback):\n",
    "#     \"\"\"\n",
    "#     A custom callback that renders the environment during training.\n",
    "#     \"\"\"\n",
    "#     def __init__(self, render_freq=1000, verbose=0):\n",
    "#         super(RenderCallback, self).__init__(verbose)\n",
    "#         self.render_freq = render_freq\n",
    "\n",
    "#     def _on_step(self) -> bool:\n",
    "#         if self.n_calls % self.render_freq == 0:\n",
    "#             self.training_env.render()\n",
    "#         return True\n",
    "\n",
    "class RenderCallback(BaseCallback):\n",
    "    def __init__(self, render_freq=1000, verbose=0, log_file='log.txt'):\n",
    "        super(RenderCallback, self).__init__(verbose)\n",
    "        self.render_freq = render_freq\n",
    "        self.log_file = log_file\n",
    "\n",
    "    def _on_step(self) -> bool:\n",
    "        if self.n_calls % self.render_freq == 0:\n",
    "            render_output = self.training_env.render()\n",
    "            with open(self.log_file, 'a') as f:\n",
    "                f.write(f\"Step: {self.n_calls}, Render Output: {render_output}\\n\")\n",
    "        return True\n",
    "# Initialize the environment\n",
    "\n",
    "\n",
    "\n",
    "\n"
   ]
  },
  {
   "cell_type": "code",
   "execution_count": null,
   "metadata": {},
   "outputs": [],
   "source": [
    "# Create the SAC model\n",
    "\n",
    "#Lets train  a new model \n",
    "nodel = SAC(\n",
    "    \"MlpPolicy\", enviorment, \n",
    "    learning_rate=3e-4,     \n",
    "    buffer_size=int(1e6), \n",
    "    batch_size=1024,       \n",
    "    tau=0.005,            \n",
    "    gamma=0.99,           \n",
    "    train_freq=(1000 , \"step\"),         \n",
    "    gradient_steps=-1,     \n",
    "    ent_coef=\"auto\",\n",
    "    verbose=1         # Enable logging\n",
    ")\n",
    "nodel.learn(total_timesteps=500000, progress_bar=True)\n",
    "nodel.save(\"SAConNotrealV2.zip\")"
   ]
  },
  {
   "cell_type": "code",
   "execution_count": null,
   "metadata": {},
   "outputs": [],
   "source": [
    "nodelV3 = SAC(\n",
    "    \"MlpPolicy\", enviorment, \n",
    "    learning_rate=3e-4,     \n",
    "    buffer_size=int(1e6), \n",
    "    batch_size=1024,       \n",
    "    tau=0.005,            \n",
    "    gamma=0.99,           \n",
    "    #train_freq=(1000 , \"step\"),         \n",
    "    #gradient_steps=10,     \n",
    "    ent_coef=\"auto_0.5\",\n",
    "    verbose=1         # Enable logging\n",
    ")\n",
    "nodelV3.learn(total_timesteps=500000, progress_bar=True)\n",
    "nodelV3.save(\"SAConNotrealV3_1000episodse.zip\")"
   ]
  },
  {
   "cell_type": "code",
   "execution_count": 4,
   "metadata": {},
   "outputs": [],
   "source": [
    "from stable_baselines3 import SAC \n",
    "nodelV3=SAC.load(\"SAConNotrealV3_1000episodse.zip\")"
   ]
  },
  {
   "cell_type": "code",
   "execution_count": 201,
   "metadata": {},
   "outputs": [
    {
     "data": {
      "text/plain": [
       "array([0.001, 0.015, 0.   ])"
      ]
     },
     "execution_count": 201,
     "metadata": {},
     "output_type": "execute_result"
    }
   ],
   "source": [
    "enviorment.reset()[0]"
   ]
  },
  {
   "cell_type": "code",
   "execution_count": null,
   "metadata": {},
   "outputs": [],
   "source": [
    "action=nodel.predict(enviorment.reset()[0])\n",
    "obs, reward, done, _, _ = enviorment.step(action)\n",
    "obs\n",
    "\n"
   ]
  },
  {
   "cell_type": "code",
   "execution_count": 43,
   "metadata": {},
   "outputs": [
    {
     "data": {
      "text/plain": [
       "array([ 0.26242507, -0.05903226], dtype=float32)"
      ]
     },
     "execution_count": 43,
     "metadata": {},
     "output_type": "execute_result"
    }
   ],
   "source": [
    "action[0]"
   ]
  },
  {
   "cell_type": "markdown",
   "metadata": {},
   "source": [
    "#using ppo this time"
   ]
  },
  {
   "cell_type": "code",
   "execution_count": 3,
   "metadata": {},
   "outputs": [
    {
     "name": "stdout",
     "output_type": "stream",
     "text": [
      "Using cpu device\n"
     ]
    }
   ],
   "source": [
    "from stable_baselines3 import PPO\n",
    "from stable_baselines3.common.vec_env import VecNormalize\n",
    "from stable_baselines3.common.vec_env import DummyVecEnv, VecNormalize\n",
    "\n",
    "# Wrap your environment in DummyVecEnv\n",
    "env = DummyVecEnv([lambda: enviorment])\n",
    "# Now apply VecNormalize to normalize observations and rewards\n",
    "env = VecNormalize(env, norm_obs=True, norm_reward=True, clip_obs=10.)\n",
    "model_PPO= PPO(\"MlpPolicy\", env, verbose=1)"
   ]
  },
  {
   "cell_type": "code",
   "execution_count": 6,
   "metadata": {},
   "outputs": [
    {
     "data": {
      "application/vnd.jupyter.widget-view+json": {
       "model_id": "638aaad4ef4a4ed3822907da3bb66d06",
       "version_major": 2,
       "version_minor": 0
      },
      "text/plain": [
       "Output()"
      ]
     },
     "metadata": {},
     "output_type": "display_data"
    },
    {
     "name": "stdout",
     "output_type": "stream",
     "text": [
      "-----------------------------\n",
      "| time/              |      |\n",
      "|    fps             | 1718 |\n",
      "|    iterations      | 1    |\n",
      "|    time_elapsed    | 1    |\n",
      "|    total_timesteps | 2048 |\n",
      "-----------------------------\n"
     ]
    },
    {
     "name": "stdout",
     "output_type": "stream",
     "text": [
      "------------------------------------------\n",
      "| time/                   |              |\n",
      "|    fps                  | 1262         |\n",
      "|    iterations           | 2            |\n",
      "|    time_elapsed         | 3            |\n",
      "|    total_timesteps      | 4096         |\n",
      "| train/                  |              |\n",
      "|    approx_kl            | 0.0058630207 |\n",
      "|    clip_fraction        | 0.0449       |\n",
      "|    clip_range           | 0.2          |\n",
      "|    entropy_loss         | -2.89        |\n",
      "|    explained_variance   | -0.0157      |\n",
      "|    learning_rate        | 0.0003       |\n",
      "|    loss                 | 0.0212       |\n",
      "|    n_updates            | 20           |\n",
      "|    policy_gradient_loss | -0.00214     |\n",
      "|    std                  | 1.03         |\n",
      "|    value_loss           | 0.759        |\n",
      "------------------------------------------\n"
     ]
    },
    {
     "name": "stdout",
     "output_type": "stream",
     "text": [
      "-----------------------------------------\n",
      "| time/                   |             |\n",
      "|    fps                  | 1123        |\n",
      "|    iterations           | 3           |\n",
      "|    time_elapsed         | 5           |\n",
      "|    total_timesteps      | 6144        |\n",
      "| train/                  |             |\n",
      "|    approx_kl            | 0.002564901 |\n",
      "|    clip_fraction        | 0.0175      |\n",
      "|    clip_range           | 0.2         |\n",
      "|    entropy_loss         | -2.92       |\n",
      "|    explained_variance   | 0.143       |\n",
      "|    learning_rate        | 0.0003      |\n",
      "|    loss                 | 0.479       |\n",
      "|    n_updates            | 30          |\n",
      "|    policy_gradient_loss | -0.000749   |\n",
      "|    std                  | 1.05        |\n",
      "|    value_loss           | 0.67        |\n",
      "-----------------------------------------\n"
     ]
    },
    {
     "name": "stdout",
     "output_type": "stream",
     "text": [
      "------------------------------------------\n",
      "| time/                   |              |\n",
      "|    fps                  | 1081         |\n",
      "|    iterations           | 4            |\n",
      "|    time_elapsed         | 7            |\n",
      "|    total_timesteps      | 8192         |\n",
      "| train/                  |              |\n",
      "|    approx_kl            | 0.0028380256 |\n",
      "|    clip_fraction        | 0.00464      |\n",
      "|    clip_range           | 0.2          |\n",
      "|    entropy_loss         | -2.94        |\n",
      "|    explained_variance   | 0.407        |\n",
      "|    learning_rate        | 0.0003       |\n",
      "|    loss                 | 0.107        |\n",
      "|    n_updates            | 40           |\n",
      "|    policy_gradient_loss | -0.000128    |\n",
      "|    std                  | 1.05         |\n",
      "|    value_loss           | 0.563        |\n",
      "------------------------------------------\n"
     ]
    },
    {
     "name": "stdout",
     "output_type": "stream",
     "text": [
      "-----------------------------------------\n",
      "| time/                   |             |\n",
      "|    fps                  | 1059        |\n",
      "|    iterations           | 5           |\n",
      "|    time_elapsed         | 9           |\n",
      "|    total_timesteps      | 10240       |\n",
      "| train/                  |             |\n",
      "|    approx_kl            | 0.004029928 |\n",
      "|    clip_fraction        | 0.0207      |\n",
      "|    clip_range           | 0.2         |\n",
      "|    entropy_loss         | -2.94       |\n",
      "|    explained_variance   | 0.506       |\n",
      "|    learning_rate        | 0.0003      |\n",
      "|    loss                 | 0.539       |\n",
      "|    n_updates            | 50          |\n",
      "|    policy_gradient_loss | -0.00121    |\n",
      "|    std                  | 1.06        |\n",
      "|    value_loss           | 0.515       |\n",
      "-----------------------------------------\n"
     ]
    },
    {
     "name": "stdout",
     "output_type": "stream",
     "text": [
      "-----------------------------------------\n",
      "| time/                   |             |\n",
      "|    fps                  | 1043        |\n",
      "|    iterations           | 6           |\n",
      "|    time_elapsed         | 11          |\n",
      "|    total_timesteps      | 12288       |\n",
      "| train/                  |             |\n",
      "|    approx_kl            | 0.006755503 |\n",
      "|    clip_fraction        | 0.0563      |\n",
      "|    clip_range           | 0.2         |\n",
      "|    entropy_loss         | -2.95       |\n",
      "|    explained_variance   | 0.651       |\n",
      "|    learning_rate        | 0.0003      |\n",
      "|    loss                 | 0.114       |\n",
      "|    n_updates            | 60          |\n",
      "|    policy_gradient_loss | -0.00525    |\n",
      "|    std                  | 1.06        |\n",
      "|    value_loss           | 0.435       |\n",
      "-----------------------------------------\n"
     ]
    },
    {
     "name": "stdout",
     "output_type": "stream",
     "text": [
      "-----------------------------------------\n",
      "| time/                   |             |\n",
      "|    fps                  | 1034        |\n",
      "|    iterations           | 7           |\n",
      "|    time_elapsed         | 13          |\n",
      "|    total_timesteps      | 14336       |\n",
      "| train/                  |             |\n",
      "|    approx_kl            | 0.005923759 |\n",
      "|    clip_fraction        | 0.0598      |\n",
      "|    clip_range           | 0.2         |\n",
      "|    entropy_loss         | -2.96       |\n",
      "|    explained_variance   | 0.614       |\n",
      "|    learning_rate        | 0.0003      |\n",
      "|    loss                 | 0.0277      |\n",
      "|    n_updates            | 70          |\n",
      "|    policy_gradient_loss | -0.00466    |\n",
      "|    std                  | 1.06        |\n",
      "|    value_loss           | 0.482       |\n",
      "-----------------------------------------\n"
     ]
    },
    {
     "name": "stdout",
     "output_type": "stream",
     "text": [
      "------------------------------------------\n",
      "| time/                   |              |\n",
      "|    fps                  | 1024         |\n",
      "|    iterations           | 8            |\n",
      "|    time_elapsed         | 15           |\n",
      "|    total_timesteps      | 16384        |\n",
      "| train/                  |              |\n",
      "|    approx_kl            | 0.0069870786 |\n",
      "|    clip_fraction        | 0.0363       |\n",
      "|    clip_range           | 0.2          |\n",
      "|    entropy_loss         | -2.96        |\n",
      "|    explained_variance   | 0.607        |\n",
      "|    learning_rate        | 0.0003       |\n",
      "|    loss                 | 0.155        |\n",
      "|    n_updates            | 80           |\n",
      "|    policy_gradient_loss | -0.0015      |\n",
      "|    std                  | 1.06         |\n",
      "|    value_loss           | 0.505        |\n",
      "------------------------------------------\n"
     ]
    },
    {
     "name": "stdout",
     "output_type": "stream",
     "text": [
      "------------------------------------------\n",
      "| time/                   |              |\n",
      "|    fps                  | 1011         |\n",
      "|    iterations           | 9            |\n",
      "|    time_elapsed         | 18           |\n",
      "|    total_timesteps      | 18432        |\n",
      "| train/                  |              |\n",
      "|    approx_kl            | 0.0026396308 |\n",
      "|    clip_fraction        | 0.0211       |\n",
      "|    clip_range           | 0.2          |\n",
      "|    entropy_loss         | -2.95        |\n",
      "|    explained_variance   | 0.683        |\n",
      "|    learning_rate        | 0.0003       |\n",
      "|    loss                 | 0.0678       |\n",
      "|    n_updates            | 90           |\n",
      "|    policy_gradient_loss | -0.000344    |\n",
      "|    std                  | 1.06         |\n",
      "|    value_loss           | 0.472        |\n",
      "------------------------------------------\n"
     ]
    },
    {
     "name": "stdout",
     "output_type": "stream",
     "text": [
      "------------------------------------------\n",
      "| time/                   |              |\n",
      "|    fps                  | 997          |\n",
      "|    iterations           | 10           |\n",
      "|    time_elapsed         | 20           |\n",
      "|    total_timesteps      | 20480        |\n",
      "| train/                  |              |\n",
      "|    approx_kl            | 0.0020985706 |\n",
      "|    clip_fraction        | 0.0143       |\n",
      "|    clip_range           | 0.2          |\n",
      "|    entropy_loss         | -2.94        |\n",
      "|    explained_variance   | 0.726        |\n",
      "|    learning_rate        | 0.0003       |\n",
      "|    loss                 | 0.164        |\n",
      "|    n_updates            | 100          |\n",
      "|    policy_gradient_loss | -0.00082     |\n",
      "|    std                  | 1.05         |\n",
      "|    value_loss           | 0.451        |\n",
      "------------------------------------------\n"
     ]
    },
    {
     "name": "stdout",
     "output_type": "stream",
     "text": [
      "-----------------------------------------\n",
      "| time/                   |             |\n",
      "|    fps                  | 990         |\n",
      "|    iterations           | 11          |\n",
      "|    time_elapsed         | 22          |\n",
      "|    total_timesteps      | 22528       |\n",
      "| train/                  |             |\n",
      "|    approx_kl            | 0.008088981 |\n",
      "|    clip_fraction        | 0.0606      |\n",
      "|    clip_range           | 0.2         |\n",
      "|    entropy_loss         | -2.93       |\n",
      "|    explained_variance   | 0.726       |\n",
      "|    learning_rate        | 0.0003      |\n",
      "|    loss                 | 0.153       |\n",
      "|    n_updates            | 110         |\n",
      "|    policy_gradient_loss | -0.0031     |\n",
      "|    std                  | 1.04        |\n",
      "|    value_loss           | 0.444       |\n",
      "-----------------------------------------\n"
     ]
    },
    {
     "name": "stdout",
     "output_type": "stream",
     "text": [
      "-----------------------------------------\n",
      "| time/                   |             |\n",
      "|    fps                  | 956         |\n",
      "|    iterations           | 12          |\n",
      "|    time_elapsed         | 25          |\n",
      "|    total_timesteps      | 24576       |\n",
      "| train/                  |             |\n",
      "|    approx_kl            | 0.009490788 |\n",
      "|    clip_fraction        | 0.094       |\n",
      "|    clip_range           | 0.2         |\n",
      "|    entropy_loss         | -2.92       |\n",
      "|    explained_variance   | 0.776       |\n",
      "|    learning_rate        | 0.0003      |\n",
      "|    loss                 | 0.309       |\n",
      "|    n_updates            | 120         |\n",
      "|    policy_gradient_loss | -0.006      |\n",
      "|    std                  | 1.04        |\n",
      "|    value_loss           | 0.436       |\n",
      "-----------------------------------------\n"
     ]
    },
    {
     "name": "stdout",
     "output_type": "stream",
     "text": [
      "------------------------------------------\n",
      "| time/                   |              |\n",
      "|    fps                  | 907          |\n",
      "|    iterations           | 13           |\n",
      "|    time_elapsed         | 29           |\n",
      "|    total_timesteps      | 26624        |\n",
      "| train/                  |              |\n",
      "|    approx_kl            | 0.0061172624 |\n",
      "|    clip_fraction        | 0.036        |\n",
      "|    clip_range           | 0.2          |\n",
      "|    entropy_loss         | -2.91        |\n",
      "|    explained_variance   | 0.677        |\n",
      "|    learning_rate        | 0.0003       |\n",
      "|    loss                 | 0.925        |\n",
      "|    n_updates            | 130          |\n",
      "|    policy_gradient_loss | -0.000839    |\n",
      "|    std                  | 1.03         |\n",
      "|    value_loss           | 0.528        |\n",
      "------------------------------------------\n"
     ]
    },
    {
     "name": "stdout",
     "output_type": "stream",
     "text": [
      "-----------------------------------------\n",
      "| time/                   |             |\n",
      "|    fps                  | 862         |\n",
      "|    iterations           | 14          |\n",
      "|    time_elapsed         | 33          |\n",
      "|    total_timesteps      | 28672       |\n",
      "| train/                  |             |\n",
      "|    approx_kl            | 0.011655583 |\n",
      "|    clip_fraction        | 0.0945      |\n",
      "|    clip_range           | 0.2         |\n",
      "|    entropy_loss         | -2.9        |\n",
      "|    explained_variance   | 0.776       |\n",
      "|    learning_rate        | 0.0003      |\n",
      "|    loss                 | 0.114       |\n",
      "|    n_updates            | 140         |\n",
      "|    policy_gradient_loss | -0.00424    |\n",
      "|    std                  | 1.04        |\n",
      "|    value_loss           | 0.451       |\n",
      "-----------------------------------------\n"
     ]
    },
    {
     "name": "stdout",
     "output_type": "stream",
     "text": [
      "------------------------------------------\n",
      "| time/                   |              |\n",
      "|    fps                  | 845          |\n",
      "|    iterations           | 15           |\n",
      "|    time_elapsed         | 36           |\n",
      "|    total_timesteps      | 30720        |\n",
      "| train/                  |              |\n",
      "|    approx_kl            | 0.0110586155 |\n",
      "|    clip_fraction        | 0.0892       |\n",
      "|    clip_range           | 0.2          |\n",
      "|    entropy_loss         | -2.9         |\n",
      "|    explained_variance   | 0.708        |\n",
      "|    learning_rate        | 0.0003       |\n",
      "|    loss                 | 0.0319       |\n",
      "|    n_updates            | 150          |\n",
      "|    policy_gradient_loss | -0.00506     |\n",
      "|    std                  | 1.03         |\n",
      "|    value_loss           | 0.556        |\n",
      "------------------------------------------\n"
     ]
    },
    {
     "name": "stdout",
     "output_type": "stream",
     "text": [
      "-----------------------------------------\n",
      "| time/                   |             |\n",
      "|    fps                  | 825         |\n",
      "|    iterations           | 16          |\n",
      "|    time_elapsed         | 39          |\n",
      "|    total_timesteps      | 32768       |\n",
      "| train/                  |             |\n",
      "|    approx_kl            | 0.012187524 |\n",
      "|    clip_fraction        | 0.15        |\n",
      "|    clip_range           | 0.2         |\n",
      "|    entropy_loss         | -2.9        |\n",
      "|    explained_variance   | 0.642       |\n",
      "|    learning_rate        | 0.0003      |\n",
      "|    loss                 | 0.0422      |\n",
      "|    n_updates            | 160         |\n",
      "|    policy_gradient_loss | -0.0068     |\n",
      "|    std                  | 1.04        |\n",
      "|    value_loss           | 0.526       |\n",
      "-----------------------------------------\n"
     ]
    },
    {
     "name": "stdout",
     "output_type": "stream",
     "text": [
      "------------------------------------------\n",
      "| time/                   |              |\n",
      "|    fps                  | 810          |\n",
      "|    iterations           | 17           |\n",
      "|    time_elapsed         | 42           |\n",
      "|    total_timesteps      | 34816        |\n",
      "| train/                  |              |\n",
      "|    approx_kl            | 0.0048304684 |\n",
      "|    clip_fraction        | 0.0326       |\n",
      "|    clip_range           | 0.2          |\n",
      "|    entropy_loss         | -2.9         |\n",
      "|    explained_variance   | 0.583        |\n",
      "|    learning_rate        | 0.0003       |\n",
      "|    loss                 | 0.0387       |\n",
      "|    n_updates            | 170          |\n",
      "|    policy_gradient_loss | -0.000978    |\n",
      "|    std                  | 1.03         |\n",
      "|    value_loss           | 0.57         |\n",
      "------------------------------------------\n"
     ]
    },
    {
     "name": "stdout",
     "output_type": "stream",
     "text": [
      "------------------------------------------\n",
      "| time/                   |              |\n",
      "|    fps                  | 796          |\n",
      "|    iterations           | 18           |\n",
      "|    time_elapsed         | 46           |\n",
      "|    total_timesteps      | 36864        |\n",
      "| train/                  |              |\n",
      "|    approx_kl            | 0.0084413225 |\n",
      "|    clip_fraction        | 0.0834       |\n",
      "|    clip_range           | 0.2          |\n",
      "|    entropy_loss         | -2.89        |\n",
      "|    explained_variance   | 0.77         |\n",
      "|    learning_rate        | 0.0003       |\n",
      "|    loss                 | 0.0646       |\n",
      "|    n_updates            | 180          |\n",
      "|    policy_gradient_loss | -0.00424     |\n",
      "|    std                  | 1.03         |\n",
      "|    value_loss           | 0.416        |\n",
      "------------------------------------------\n"
     ]
    },
    {
     "name": "stdout",
     "output_type": "stream",
     "text": [
      "------------------------------------------\n",
      "| time/                   |              |\n",
      "|    fps                  | 791          |\n",
      "|    iterations           | 19           |\n",
      "|    time_elapsed         | 49           |\n",
      "|    total_timesteps      | 38912        |\n",
      "| train/                  |              |\n",
      "|    approx_kl            | 0.0066095274 |\n",
      "|    clip_fraction        | 0.0491       |\n",
      "|    clip_range           | 0.2          |\n",
      "|    entropy_loss         | -2.89        |\n",
      "|    explained_variance   | 0.796        |\n",
      "|    learning_rate        | 0.0003       |\n",
      "|    loss                 | 0.741        |\n",
      "|    n_updates            | 190          |\n",
      "|    policy_gradient_loss | -0.00228     |\n",
      "|    std                  | 1.02         |\n",
      "|    value_loss           | 0.364        |\n",
      "------------------------------------------\n"
     ]
    },
    {
     "name": "stdout",
     "output_type": "stream",
     "text": [
      "------------------------------------------\n",
      "| time/                   |              |\n",
      "|    fps                  | 786          |\n",
      "|    iterations           | 20           |\n",
      "|    time_elapsed         | 52           |\n",
      "|    total_timesteps      | 40960        |\n",
      "| train/                  |              |\n",
      "|    approx_kl            | 0.0032163735 |\n",
      "|    clip_fraction        | 0.0155       |\n",
      "|    clip_range           | 0.2          |\n",
      "|    entropy_loss         | -2.87        |\n",
      "|    explained_variance   | 0.757        |\n",
      "|    learning_rate        | 0.0003       |\n",
      "|    loss                 | 0.0373       |\n",
      "|    n_updates            | 200          |\n",
      "|    policy_gradient_loss | -0.00051     |\n",
      "|    std                  | 1.01         |\n",
      "|    value_loss           | 0.44         |\n",
      "------------------------------------------\n"
     ]
    },
    {
     "name": "stdout",
     "output_type": "stream",
     "text": [
      "------------------------------------------\n",
      "| time/                   |              |\n",
      "|    fps                  | 782          |\n",
      "|    iterations           | 21           |\n",
      "|    time_elapsed         | 54           |\n",
      "|    total_timesteps      | 43008        |\n",
      "| train/                  |              |\n",
      "|    approx_kl            | 0.0035728803 |\n",
      "|    clip_fraction        | 0.0362       |\n",
      "|    clip_range           | 0.2          |\n",
      "|    entropy_loss         | -2.85        |\n",
      "|    explained_variance   | 0.775        |\n",
      "|    learning_rate        | 0.0003       |\n",
      "|    loss                 | 0.258        |\n",
      "|    n_updates            | 210          |\n",
      "|    policy_gradient_loss | 0.000398     |\n",
      "|    std                  | 1.01         |\n",
      "|    value_loss           | 0.528        |\n",
      "------------------------------------------\n"
     ]
    },
    {
     "name": "stdout",
     "output_type": "stream",
     "text": [
      "-----------------------------------------\n",
      "| time/                   |             |\n",
      "|    fps                  | 776         |\n",
      "|    iterations           | 22          |\n",
      "|    time_elapsed         | 58          |\n",
      "|    total_timesteps      | 45056       |\n",
      "| train/                  |             |\n",
      "|    approx_kl            | 0.004450764 |\n",
      "|    clip_fraction        | 0.0348      |\n",
      "|    clip_range           | 0.2         |\n",
      "|    entropy_loss         | -2.83       |\n",
      "|    explained_variance   | 0.838       |\n",
      "|    learning_rate        | 0.0003      |\n",
      "|    loss                 | 0.314       |\n",
      "|    n_updates            | 220         |\n",
      "|    policy_gradient_loss | 0.000284    |\n",
      "|    std                  | 0.992       |\n",
      "|    value_loss           | 0.338       |\n",
      "-----------------------------------------\n"
     ]
    },
    {
     "name": "stdout",
     "output_type": "stream",
     "text": [
      "------------------------------------------\n",
      "| time/                   |              |\n",
      "|    fps                  | 769          |\n",
      "|    iterations           | 23           |\n",
      "|    time_elapsed         | 61           |\n",
      "|    total_timesteps      | 47104        |\n",
      "| train/                  |              |\n",
      "|    approx_kl            | 0.0023489771 |\n",
      "|    clip_fraction        | 0.0398       |\n",
      "|    clip_range           | 0.2          |\n",
      "|    entropy_loss         | -2.81        |\n",
      "|    explained_variance   | 0.862        |\n",
      "|    learning_rate        | 0.0003       |\n",
      "|    loss                 | 0.295        |\n",
      "|    n_updates            | 230          |\n",
      "|    policy_gradient_loss | 0.000517     |\n",
      "|    std                  | 0.989        |\n",
      "|    value_loss           | 0.291        |\n",
      "------------------------------------------\n"
     ]
    },
    {
     "name": "stdout",
     "output_type": "stream",
     "text": [
      "------------------------------------------\n",
      "| time/                   |              |\n",
      "|    fps                  | 766          |\n",
      "|    iterations           | 24           |\n",
      "|    time_elapsed         | 64           |\n",
      "|    total_timesteps      | 49152        |\n",
      "| train/                  |              |\n",
      "|    approx_kl            | 0.0047214967 |\n",
      "|    clip_fraction        | 0.0394       |\n",
      "|    clip_range           | 0.2          |\n",
      "|    entropy_loss         | -2.82        |\n",
      "|    explained_variance   | 0.934        |\n",
      "|    learning_rate        | 0.0003       |\n",
      "|    loss                 | 0.0541       |\n",
      "|    n_updates            | 240          |\n",
      "|    policy_gradient_loss | 0.000375     |\n",
      "|    std                  | 0.994        |\n",
      "|    value_loss           | 0.186        |\n",
      "------------------------------------------\n"
     ]
    },
    {
     "name": "stdout",
     "output_type": "stream",
     "text": [
      "-----------------------------------------\n",
      "| time/                   |             |\n",
      "|    fps                  | 760         |\n",
      "|    iterations           | 25          |\n",
      "|    time_elapsed         | 67          |\n",
      "|    total_timesteps      | 51200       |\n",
      "| train/                  |             |\n",
      "|    approx_kl            | 0.006223678 |\n",
      "|    clip_fraction        | 0.0368      |\n",
      "|    clip_range           | 0.2         |\n",
      "|    entropy_loss         | -2.82       |\n",
      "|    explained_variance   | 0.93        |\n",
      "|    learning_rate        | 0.0003      |\n",
      "|    loss                 | 0.261       |\n",
      "|    n_updates            | 250         |\n",
      "|    policy_gradient_loss | -0.00103    |\n",
      "|    std                  | 0.994       |\n",
      "|    value_loss           | 0.193       |\n",
      "-----------------------------------------\n"
     ]
    },
    {
     "name": "stdout",
     "output_type": "stream",
     "text": [
      "------------------------------------------\n",
      "| time/                   |              |\n",
      "|    fps                  | 757          |\n",
      "|    iterations           | 26           |\n",
      "|    time_elapsed         | 70           |\n",
      "|    total_timesteps      | 53248        |\n",
      "| train/                  |              |\n",
      "|    approx_kl            | 0.0048128553 |\n",
      "|    clip_fraction        | 0.049        |\n",
      "|    clip_range           | 0.2          |\n",
      "|    entropy_loss         | -2.82        |\n",
      "|    explained_variance   | 0.92         |\n",
      "|    learning_rate        | 0.0003       |\n",
      "|    loss                 | 0.0922       |\n",
      "|    n_updates            | 260          |\n",
      "|    policy_gradient_loss | -0.00054     |\n",
      "|    std                  | 0.994        |\n",
      "|    value_loss           | 0.206        |\n",
      "------------------------------------------\n"
     ]
    },
    {
     "name": "stdout",
     "output_type": "stream",
     "text": [
      "------------------------------------------\n",
      "| time/                   |              |\n",
      "|    fps                  | 751          |\n",
      "|    iterations           | 27           |\n",
      "|    time_elapsed         | 73           |\n",
      "|    total_timesteps      | 55296        |\n",
      "| train/                  |              |\n",
      "|    approx_kl            | 0.0037136907 |\n",
      "|    clip_fraction        | 0.0137       |\n",
      "|    clip_range           | 0.2          |\n",
      "|    entropy_loss         | -2.82        |\n",
      "|    explained_variance   | 0.92         |\n",
      "|    learning_rate        | 0.0003       |\n",
      "|    loss                 | 0.131        |\n",
      "|    n_updates            | 270          |\n",
      "|    policy_gradient_loss | 0.000837     |\n",
      "|    std                  | 0.995        |\n",
      "|    value_loss           | 0.212        |\n",
      "------------------------------------------\n"
     ]
    },
    {
     "name": "stdout",
     "output_type": "stream",
     "text": [
      "-----------------------------------------\n",
      "| time/                   |             |\n",
      "|    fps                  | 745         |\n",
      "|    iterations           | 28          |\n",
      "|    time_elapsed         | 76          |\n",
      "|    total_timesteps      | 57344       |\n",
      "| train/                  |             |\n",
      "|    approx_kl            | 0.003989488 |\n",
      "|    clip_fraction        | 0.0481      |\n",
      "|    clip_range           | 0.2         |\n",
      "|    entropy_loss         | -2.81       |\n",
      "|    explained_variance   | 0.943       |\n",
      "|    learning_rate        | 0.0003      |\n",
      "|    loss                 | 0.0364      |\n",
      "|    n_updates            | 280         |\n",
      "|    policy_gradient_loss | -0.00174    |\n",
      "|    std                  | 0.987       |\n",
      "|    value_loss           | 0.165       |\n",
      "-----------------------------------------\n"
     ]
    },
    {
     "name": "stdout",
     "output_type": "stream",
     "text": [
      "------------------------------------------\n",
      "| time/                   |              |\n",
      "|    fps                  | 741          |\n",
      "|    iterations           | 29           |\n",
      "|    time_elapsed         | 80           |\n",
      "|    total_timesteps      | 59392        |\n",
      "| train/                  |              |\n",
      "|    approx_kl            | 0.0049091913 |\n",
      "|    clip_fraction        | 0.0697       |\n",
      "|    clip_range           | 0.2          |\n",
      "|    entropy_loss         | -2.81        |\n",
      "|    explained_variance   | 0.934        |\n",
      "|    learning_rate        | 0.0003       |\n",
      "|    loss                 | 0.00265      |\n",
      "|    n_updates            | 290          |\n",
      "|    policy_gradient_loss | -0.00443     |\n",
      "|    std                  | 0.995        |\n",
      "|    value_loss           | 0.175        |\n",
      "------------------------------------------\n"
     ]
    },
    {
     "name": "stdout",
     "output_type": "stream",
     "text": [
      "-----------------------------------------\n",
      "| time/                   |             |\n",
      "|    fps                  | 736         |\n",
      "|    iterations           | 30          |\n",
      "|    time_elapsed         | 83          |\n",
      "|    total_timesteps      | 61440       |\n",
      "| train/                  |             |\n",
      "|    approx_kl            | 0.002593506 |\n",
      "|    clip_fraction        | 0.0269      |\n",
      "|    clip_range           | 0.2         |\n",
      "|    entropy_loss         | -2.82       |\n",
      "|    explained_variance   | 0.943       |\n",
      "|    learning_rate        | 0.0003      |\n",
      "|    loss                 | 0.033       |\n",
      "|    n_updates            | 300         |\n",
      "|    policy_gradient_loss | -0.000808   |\n",
      "|    std                  | 0.995       |\n",
      "|    value_loss           | 0.156       |\n",
      "-----------------------------------------\n"
     ]
    },
    {
     "name": "stdout",
     "output_type": "stream",
     "text": [
      "------------------------------------------\n",
      "| time/                   |              |\n",
      "|    fps                  | 735          |\n",
      "|    iterations           | 31           |\n",
      "|    time_elapsed         | 86           |\n",
      "|    total_timesteps      | 63488        |\n",
      "| train/                  |              |\n",
      "|    approx_kl            | 0.0063958014 |\n",
      "|    clip_fraction        | 0.0521       |\n",
      "|    clip_range           | 0.2          |\n",
      "|    entropy_loss         | -2.81        |\n",
      "|    explained_variance   | 0.95         |\n",
      "|    learning_rate        | 0.0003       |\n",
      "|    loss                 | 0.00737      |\n",
      "|    n_updates            | 310          |\n",
      "|    policy_gradient_loss | -0.00151     |\n",
      "|    std                  | 0.986        |\n",
      "|    value_loss           | 0.141        |\n",
      "------------------------------------------\n"
     ]
    },
    {
     "name": "stdout",
     "output_type": "stream",
     "text": [
      "------------------------------------------\n",
      "| time/                   |              |\n",
      "|    fps                  | 732          |\n",
      "|    iterations           | 32           |\n",
      "|    time_elapsed         | 89           |\n",
      "|    total_timesteps      | 65536        |\n",
      "| train/                  |              |\n",
      "|    approx_kl            | 0.0023791501 |\n",
      "|    clip_fraction        | 0.0409       |\n",
      "|    clip_range           | 0.2          |\n",
      "|    entropy_loss         | -2.79        |\n",
      "|    explained_variance   | 0.958        |\n",
      "|    learning_rate        | 0.0003       |\n",
      "|    loss                 | 0.0807       |\n",
      "|    n_updates            | 320          |\n",
      "|    policy_gradient_loss | -0.00171     |\n",
      "|    std                  | 0.976        |\n",
      "|    value_loss           | 0.124        |\n",
      "------------------------------------------\n"
     ]
    },
    {
     "name": "stdout",
     "output_type": "stream",
     "text": [
      "------------------------------------------\n",
      "| time/                   |              |\n",
      "|    fps                  | 733          |\n",
      "|    iterations           | 33           |\n",
      "|    time_elapsed         | 92           |\n",
      "|    total_timesteps      | 67584        |\n",
      "| train/                  |              |\n",
      "|    approx_kl            | 0.0037705787 |\n",
      "|    clip_fraction        | 0.0275       |\n",
      "|    clip_range           | 0.2          |\n",
      "|    entropy_loss         | -2.77        |\n",
      "|    explained_variance   | 0.967        |\n",
      "|    learning_rate        | 0.0003       |\n",
      "|    loss                 | 0.0659       |\n",
      "|    n_updates            | 330          |\n",
      "|    policy_gradient_loss | -0.000343    |\n",
      "|    std                  | 0.966        |\n",
      "|    value_loss           | 0.0956       |\n",
      "------------------------------------------\n"
     ]
    },
    {
     "name": "stdout",
     "output_type": "stream",
     "text": [
      "-----------------------------------------\n",
      "| time/                   |             |\n",
      "|    fps                  | 734         |\n",
      "|    iterations           | 34          |\n",
      "|    time_elapsed         | 94          |\n",
      "|    total_timesteps      | 69632       |\n",
      "| train/                  |             |\n",
      "|    approx_kl            | 0.006073826 |\n",
      "|    clip_fraction        | 0.0476      |\n",
      "|    clip_range           | 0.2         |\n",
      "|    entropy_loss         | -2.74       |\n",
      "|    explained_variance   | 0.964       |\n",
      "|    learning_rate        | 0.0003      |\n",
      "|    loss                 | 0.129       |\n",
      "|    n_updates            | 340         |\n",
      "|    policy_gradient_loss | -0.00351    |\n",
      "|    std                  | 0.952       |\n",
      "|    value_loss           | 0.103       |\n",
      "-----------------------------------------\n"
     ]
    },
    {
     "name": "stdout",
     "output_type": "stream",
     "text": [
      "------------------------------------------\n",
      "| time/                   |              |\n",
      "|    fps                  | 736          |\n",
      "|    iterations           | 35           |\n",
      "|    time_elapsed         | 97           |\n",
      "|    total_timesteps      | 71680        |\n",
      "| train/                  |              |\n",
      "|    approx_kl            | 0.0058766557 |\n",
      "|    clip_fraction        | 0.0598       |\n",
      "|    clip_range           | 0.2          |\n",
      "|    entropy_loss         | -2.72        |\n",
      "|    explained_variance   | 0.972        |\n",
      "|    learning_rate        | 0.0003       |\n",
      "|    loss                 | 0.0536       |\n",
      "|    n_updates            | 350          |\n",
      "|    policy_gradient_loss | -0.00496     |\n",
      "|    std                  | 0.947        |\n",
      "|    value_loss           | 0.082        |\n",
      "------------------------------------------\n"
     ]
    },
    {
     "name": "stdout",
     "output_type": "stream",
     "text": [
      "-----------------------------------------\n",
      "| time/                   |             |\n",
      "|    fps                  | 736         |\n",
      "|    iterations           | 36          |\n",
      "|    time_elapsed         | 100         |\n",
      "|    total_timesteps      | 73728       |\n",
      "| train/                  |             |\n",
      "|    approx_kl            | 0.002528055 |\n",
      "|    clip_fraction        | 0.0381      |\n",
      "|    clip_range           | 0.2         |\n",
      "|    entropy_loss         | -2.73       |\n",
      "|    explained_variance   | 0.954       |\n",
      "|    learning_rate        | 0.0003      |\n",
      "|    loss                 | 3.45e-05    |\n",
      "|    n_updates            | 360         |\n",
      "|    policy_gradient_loss | -0.000211   |\n",
      "|    std                  | 0.956       |\n",
      "|    value_loss           | 0.124       |\n",
      "-----------------------------------------\n"
     ]
    },
    {
     "name": "stdout",
     "output_type": "stream",
     "text": [
      "-----------------------------------------\n",
      "| time/                   |             |\n",
      "|    fps                  | 739         |\n",
      "|    iterations           | 37          |\n",
      "|    time_elapsed         | 102         |\n",
      "|    total_timesteps      | 75776       |\n",
      "| train/                  |             |\n",
      "|    approx_kl            | 0.003846954 |\n",
      "|    clip_fraction        | 0.0403      |\n",
      "|    clip_range           | 0.2         |\n",
      "|    entropy_loss         | -2.72       |\n",
      "|    explained_variance   | 0.942       |\n",
      "|    learning_rate        | 0.0003      |\n",
      "|    loss                 | 0.151       |\n",
      "|    n_updates            | 370         |\n",
      "|    policy_gradient_loss | -0.00252    |\n",
      "|    std                  | 0.944       |\n",
      "|    value_loss           | 0.145       |\n",
      "-----------------------------------------\n"
     ]
    },
    {
     "name": "stdout",
     "output_type": "stream",
     "text": [
      "------------------------------------------\n",
      "| time/                   |              |\n",
      "|    fps                  | 737          |\n",
      "|    iterations           | 38           |\n",
      "|    time_elapsed         | 105          |\n",
      "|    total_timesteps      | 77824        |\n",
      "| train/                  |              |\n",
      "|    approx_kl            | 0.0054919193 |\n",
      "|    clip_fraction        | 0.0626       |\n",
      "|    clip_range           | 0.2          |\n",
      "|    entropy_loss         | -2.7         |\n",
      "|    explained_variance   | 0.966        |\n",
      "|    learning_rate        | 0.0003       |\n",
      "|    loss                 | 0.0904       |\n",
      "|    n_updates            | 380          |\n",
      "|    policy_gradient_loss | -0.00226     |\n",
      "|    std                  | 0.939        |\n",
      "|    value_loss           | 0.103        |\n",
      "------------------------------------------\n"
     ]
    },
    {
     "name": "stdout",
     "output_type": "stream",
     "text": [
      "-----------------------------------------\n",
      "| time/                   |             |\n",
      "|    fps                  | 739         |\n",
      "|    iterations           | 39          |\n",
      "|    time_elapsed         | 108         |\n",
      "|    total_timesteps      | 79872       |\n",
      "| train/                  |             |\n",
      "|    approx_kl            | 0.004781944 |\n",
      "|    clip_fraction        | 0.0653      |\n",
      "|    clip_range           | 0.2         |\n",
      "|    entropy_loss         | -2.71       |\n",
      "|    explained_variance   | 0.957       |\n",
      "|    learning_rate        | 0.0003      |\n",
      "|    loss                 | 0.0492      |\n",
      "|    n_updates            | 390         |\n",
      "|    policy_gradient_loss | -0.00143    |\n",
      "|    std                  | 0.951       |\n",
      "|    value_loss           | 0.119       |\n",
      "-----------------------------------------\n"
     ]
    },
    {
     "name": "stdout",
     "output_type": "stream",
     "text": [
      "-----------------------------------------\n",
      "| time/                   |             |\n",
      "|    fps                  | 740         |\n",
      "|    iterations           | 40          |\n",
      "|    time_elapsed         | 110         |\n",
      "|    total_timesteps      | 81920       |\n",
      "| train/                  |             |\n",
      "|    approx_kl            | 0.006595591 |\n",
      "|    clip_fraction        | 0.0814      |\n",
      "|    clip_range           | 0.2         |\n",
      "|    entropy_loss         | -2.73       |\n",
      "|    explained_variance   | 0.961       |\n",
      "|    learning_rate        | 0.0003      |\n",
      "|    loss                 | 0.0504      |\n",
      "|    n_updates            | 400         |\n",
      "|    policy_gradient_loss | -0.00273    |\n",
      "|    std                  | 0.955       |\n",
      "|    value_loss           | 0.115       |\n",
      "-----------------------------------------\n"
     ]
    },
    {
     "name": "stdout",
     "output_type": "stream",
     "text": [
      "-----------------------------------------\n",
      "| time/                   |             |\n",
      "|    fps                  | 738         |\n",
      "|    iterations           | 41          |\n",
      "|    time_elapsed         | 113         |\n",
      "|    total_timesteps      | 83968       |\n",
      "| train/                  |             |\n",
      "|    approx_kl            | 0.004354905 |\n",
      "|    clip_fraction        | 0.0386      |\n",
      "|    clip_range           | 0.2         |\n",
      "|    entropy_loss         | -2.73       |\n",
      "|    explained_variance   | 0.964       |\n",
      "|    learning_rate        | 0.0003      |\n",
      "|    loss                 | 0.0545      |\n",
      "|    n_updates            | 410         |\n",
      "|    policy_gradient_loss | -0.00298    |\n",
      "|    std                  | 0.954       |\n",
      "|    value_loss           | 0.131       |\n",
      "-----------------------------------------\n"
     ]
    },
    {
     "name": "stdout",
     "output_type": "stream",
     "text": [
      "------------------------------------------\n",
      "| time/                   |              |\n",
      "|    fps                  | 736          |\n",
      "|    iterations           | 42           |\n",
      "|    time_elapsed         | 116          |\n",
      "|    total_timesteps      | 86016        |\n",
      "| train/                  |              |\n",
      "|    approx_kl            | 0.0028484506 |\n",
      "|    clip_fraction        | 0.0394       |\n",
      "|    clip_range           | 0.2          |\n",
      "|    entropy_loss         | -2.74        |\n",
      "|    explained_variance   | 0.979        |\n",
      "|    learning_rate        | 0.0003       |\n",
      "|    loss                 | -0.00015     |\n",
      "|    n_updates            | 420          |\n",
      "|    policy_gradient_loss | -0.00101     |\n",
      "|    std                  | 0.966        |\n",
      "|    value_loss           | 0.0641       |\n",
      "------------------------------------------\n"
     ]
    },
    {
     "name": "stdout",
     "output_type": "stream",
     "text": [
      "------------------------------------------\n",
      "| time/                   |              |\n",
      "|    fps                  | 735          |\n",
      "|    iterations           | 43           |\n",
      "|    time_elapsed         | 119          |\n",
      "|    total_timesteps      | 88064        |\n",
      "| train/                  |              |\n",
      "|    approx_kl            | 0.0036130846 |\n",
      "|    clip_fraction        | 0.0344       |\n",
      "|    clip_range           | 0.2          |\n",
      "|    entropy_loss         | -2.75        |\n",
      "|    explained_variance   | 0.978        |\n",
      "|    learning_rate        | 0.0003       |\n",
      "|    loss                 | 0.0426       |\n",
      "|    n_updates            | 430          |\n",
      "|    policy_gradient_loss | 0.000304     |\n",
      "|    std                  | 0.97         |\n",
      "|    value_loss           | 0.0687       |\n",
      "------------------------------------------\n"
     ]
    },
    {
     "name": "stdout",
     "output_type": "stream",
     "text": [
      "------------------------------------------\n",
      "| time/                   |              |\n",
      "|    fps                  | 732          |\n",
      "|    iterations           | 44           |\n",
      "|    time_elapsed         | 122          |\n",
      "|    total_timesteps      | 90112        |\n",
      "| train/                  |              |\n",
      "|    approx_kl            | 0.0043731653 |\n",
      "|    clip_fraction        | 0.0203       |\n",
      "|    clip_range           | 0.2          |\n",
      "|    entropy_loss         | -2.76        |\n",
      "|    explained_variance   | 0.981        |\n",
      "|    learning_rate        | 0.0003       |\n",
      "|    loss                 | 0.0448       |\n",
      "|    n_updates            | 440          |\n",
      "|    policy_gradient_loss | 0.000132     |\n",
      "|    std                  | 0.971        |\n",
      "|    value_loss           | 0.0596       |\n",
      "------------------------------------------\n"
     ]
    },
    {
     "name": "stdout",
     "output_type": "stream",
     "text": [
      "------------------------------------------\n",
      "| time/                   |              |\n",
      "|    fps                  | 732          |\n",
      "|    iterations           | 45           |\n",
      "|    time_elapsed         | 125          |\n",
      "|    total_timesteps      | 92160        |\n",
      "| train/                  |              |\n",
      "|    approx_kl            | 0.0039198804 |\n",
      "|    clip_fraction        | 0.034        |\n",
      "|    clip_range           | 0.2          |\n",
      "|    entropy_loss         | -2.76        |\n",
      "|    explained_variance   | 0.983        |\n",
      "|    learning_rate        | 0.0003       |\n",
      "|    loss                 | 0.0777       |\n",
      "|    n_updates            | 450          |\n",
      "|    policy_gradient_loss | -0.000996    |\n",
      "|    std                  | 0.963        |\n",
      "|    value_loss           | 0.052        |\n",
      "------------------------------------------\n"
     ]
    },
    {
     "name": "stdout",
     "output_type": "stream",
     "text": [
      "------------------------------------------\n",
      "| time/                   |              |\n",
      "|    fps                  | 730          |\n",
      "|    iterations           | 46           |\n",
      "|    time_elapsed         | 128          |\n",
      "|    total_timesteps      | 94208        |\n",
      "| train/                  |              |\n",
      "|    approx_kl            | 0.0048299353 |\n",
      "|    clip_fraction        | 0.0405       |\n",
      "|    clip_range           | 0.2          |\n",
      "|    entropy_loss         | -2.75        |\n",
      "|    explained_variance   | 0.984        |\n",
      "|    learning_rate        | 0.0003       |\n",
      "|    loss                 | 0.0255       |\n",
      "|    n_updates            | 460          |\n",
      "|    policy_gradient_loss | -0.00221     |\n",
      "|    std                  | 0.964        |\n",
      "|    value_loss           | 0.0495       |\n",
      "------------------------------------------\n"
     ]
    },
    {
     "name": "stdout",
     "output_type": "stream",
     "text": [
      "------------------------------------------\n",
      "| time/                   |              |\n",
      "|    fps                  | 729          |\n",
      "|    iterations           | 47           |\n",
      "|    time_elapsed         | 131          |\n",
      "|    total_timesteps      | 96256        |\n",
      "| train/                  |              |\n",
      "|    approx_kl            | 0.0021994188 |\n",
      "|    clip_fraction        | 0.0319       |\n",
      "|    clip_range           | 0.2          |\n",
      "|    entropy_loss         | -2.75        |\n",
      "|    explained_variance   | 0.984        |\n",
      "|    learning_rate        | 0.0003       |\n",
      "|    loss                 | 0.00429      |\n",
      "|    n_updates            | 470          |\n",
      "|    policy_gradient_loss | -0.000394    |\n",
      "|    std                  | 0.962        |\n",
      "|    value_loss           | 0.0497       |\n",
      "------------------------------------------\n"
     ]
    },
    {
     "name": "stdout",
     "output_type": "stream",
     "text": [
      "-----------------------------------------\n",
      "| time/                   |             |\n",
      "|    fps                  | 726         |\n",
      "|    iterations           | 48          |\n",
      "|    time_elapsed         | 135         |\n",
      "|    total_timesteps      | 98304       |\n",
      "| train/                  |             |\n",
      "|    approx_kl            | 0.006502881 |\n",
      "|    clip_fraction        | 0.049       |\n",
      "|    clip_range           | 0.2         |\n",
      "|    entropy_loss         | -2.74       |\n",
      "|    explained_variance   | 0.985       |\n",
      "|    learning_rate        | 0.0003      |\n",
      "|    loss                 | 0.0198      |\n",
      "|    n_updates            | 480         |\n",
      "|    policy_gradient_loss | -0.00296    |\n",
      "|    std                  | 0.954       |\n",
      "|    value_loss           | 0.0449      |\n",
      "-----------------------------------------\n"
     ]
    },
    {
     "name": "stdout",
     "output_type": "stream",
     "text": [
      "------------------------------------------\n",
      "| time/                   |              |\n",
      "|    fps                  | 722          |\n",
      "|    iterations           | 49           |\n",
      "|    time_elapsed         | 138          |\n",
      "|    total_timesteps      | 100352       |\n",
      "| train/                  |              |\n",
      "|    approx_kl            | 0.0049586194 |\n",
      "|    clip_fraction        | 0.0472       |\n",
      "|    clip_range           | 0.2          |\n",
      "|    entropy_loss         | -2.73        |\n",
      "|    explained_variance   | 0.983        |\n",
      "|    learning_rate        | 0.0003       |\n",
      "|    loss                 | 0.0808       |\n",
      "|    n_updates            | 490          |\n",
      "|    policy_gradient_loss | -0.00247     |\n",
      "|    std                  | 0.95         |\n",
      "|    value_loss           | 0.0508       |\n",
      "------------------------------------------\n"
     ]
    },
    {
     "data": {
      "text/html": [
       "<pre style=\"white-space:pre;overflow-x:auto;line-height:normal;font-family:Menlo,'DejaVu Sans Mono',consolas,'Courier New',monospace\"></pre>\n"
      ],
      "text/plain": []
     },
     "metadata": {},
     "output_type": "display_data"
    },
    {
     "data": {
      "text/html": [
       "<pre style=\"white-space:pre;overflow-x:auto;line-height:normal;font-family:Menlo,'DejaVu Sans Mono',consolas,'Courier New',monospace\">\n",
       "</pre>\n"
      ],
      "text/plain": [
       "\n"
      ]
     },
     "metadata": {},
     "output_type": "display_data"
    }
   ],
   "source": [
    "model_PPO.learn(total_timesteps=100000,progress_bar=True)\n",
    "model_PPO.save(\"PPOonNotrealV1.zip\")"
   ]
  },
  {
   "cell_type": "code",
   "execution_count": 62,
   "metadata": {},
   "outputs": [
    {
     "data": {
      "text/plain": [
       "array([0.001, 0.015, 0.   ])"
      ]
     },
     "execution_count": 62,
     "metadata": {},
     "output_type": "execute_result"
    }
   ],
   "source": [
    "enviorment.reset()[0]"
   ]
  },
  {
   "cell_type": "code",
   "execution_count": 39,
   "metadata": {},
   "outputs": [
    {
     "name": "stdout",
     "output_type": "stream",
     "text": [
      "<class 'numpy.ndarray'>\n",
      "[]\n"
     ]
    },
    {
     "ename": "ValueError",
     "evalue": "Action should be a list or array with exactly 2 values, [L, Fn]",
     "output_type": "error",
     "traceback": [
      "\u001b[1;31m---------------------------------------------------------------------------\u001b[0m",
      "\u001b[1;31mValueError\u001b[0m                                Traceback (most recent call last)",
      "Cell \u001b[1;32mIn[39], line 14\u001b[0m\n\u001b[0;32m     12\u001b[0m action, _ \u001b[38;5;241m=\u001b[39m model_PPO\u001b[38;5;241m.\u001b[39mpredict(obs)  \u001b[38;5;66;03m# Predict action from the model\u001b[39;00m\n\u001b[0;32m     13\u001b[0m \u001b[38;5;28mprint\u001b[39m(\u001b[38;5;28mtype\u001b[39m(action))\n\u001b[1;32m---> 14\u001b[0m obs, reward, done, _, _ \u001b[38;5;241m=\u001b[39m \u001b[43menv\u001b[49m\u001b[38;5;241;43m.\u001b[39;49m\u001b[43mstep\u001b[49m\u001b[43m(\u001b[49m\u001b[43mnp\u001b[49m\u001b[38;5;241;43m.\u001b[39;49m\u001b[43mndarray\u001b[49m\u001b[43m(\u001b[49m\u001b[43m[\u001b[49m\u001b[38;5;241;43m120\u001b[39;49m\u001b[43m \u001b[49m\u001b[43m,\u001b[49m\u001b[43m \u001b[49m\u001b[38;5;241;43m0\u001b[39;49m\u001b[43m]\u001b[49m\u001b[43m)\u001b[49m\u001b[43m)\u001b[49m  \u001b[38;5;66;03m# Step in the environment with the chosen action\u001b[39;00m\n\u001b[0;32m     16\u001b[0m \u001b[38;5;66;03m# Store the current time step and action\u001b[39;00m\n\u001b[0;32m     17\u001b[0m time_steps\u001b[38;5;241m.\u001b[39mappend(t)\n",
      "File \u001b[1;32m~\\AppData\\Local\\Packages\\PythonSoftwareFoundation.Python.3.11_qbz5n2kfra8p0\\LocalCache\\local-packages\\Python311\\site-packages\\stable_baselines3\\common\\vec_env\\base_vec_env.py:206\u001b[0m, in \u001b[0;36mVecEnv.step\u001b[1;34m(self, actions)\u001b[0m\n\u001b[0;32m    199\u001b[0m \u001b[38;5;250m\u001b[39m\u001b[38;5;124;03m\"\"\"\u001b[39;00m\n\u001b[0;32m    200\u001b[0m \u001b[38;5;124;03mStep the environments with the given action\u001b[39;00m\n\u001b[0;32m    201\u001b[0m \n\u001b[0;32m    202\u001b[0m \u001b[38;5;124;03m:param actions: the action\u001b[39;00m\n\u001b[0;32m    203\u001b[0m \u001b[38;5;124;03m:return: observation, reward, done, information\u001b[39;00m\n\u001b[0;32m    204\u001b[0m \u001b[38;5;124;03m\"\"\"\u001b[39;00m\n\u001b[0;32m    205\u001b[0m \u001b[38;5;28mself\u001b[39m\u001b[38;5;241m.\u001b[39mstep_async(actions)\n\u001b[1;32m--> 206\u001b[0m \u001b[38;5;28;01mreturn\u001b[39;00m \u001b[38;5;28;43mself\u001b[39;49m\u001b[38;5;241;43m.\u001b[39;49m\u001b[43mstep_wait\u001b[49m\u001b[43m(\u001b[49m\u001b[43m)\u001b[49m\n",
      "File \u001b[1;32m~\\AppData\\Local\\Packages\\PythonSoftwareFoundation.Python.3.11_qbz5n2kfra8p0\\LocalCache\\local-packages\\Python311\\site-packages\\stable_baselines3\\common\\vec_env\\vec_normalize.py:181\u001b[0m, in \u001b[0;36mVecNormalize.step_wait\u001b[1;34m(self)\u001b[0m\n\u001b[0;32m    174\u001b[0m \u001b[38;5;28;01mdef\u001b[39;00m \u001b[38;5;21mstep_wait\u001b[39m(\u001b[38;5;28mself\u001b[39m) \u001b[38;5;241m-\u001b[39m\u001b[38;5;241m>\u001b[39m VecEnvStepReturn:\n\u001b[0;32m    175\u001b[0m \u001b[38;5;250m    \u001b[39m\u001b[38;5;124;03m\"\"\"\u001b[39;00m\n\u001b[0;32m    176\u001b[0m \u001b[38;5;124;03m    Apply sequence of actions to sequence of environments\u001b[39;00m\n\u001b[0;32m    177\u001b[0m \u001b[38;5;124;03m    actions -> (observations, rewards, dones)\u001b[39;00m\n\u001b[0;32m    178\u001b[0m \n\u001b[0;32m    179\u001b[0m \u001b[38;5;124;03m    where ``dones`` is a boolean vector indicating whether each element is new.\u001b[39;00m\n\u001b[0;32m    180\u001b[0m \u001b[38;5;124;03m    \"\"\"\u001b[39;00m\n\u001b[1;32m--> 181\u001b[0m     obs, rewards, dones, infos \u001b[38;5;241m=\u001b[39m \u001b[38;5;28;43mself\u001b[39;49m\u001b[38;5;241;43m.\u001b[39;49m\u001b[43mvenv\u001b[49m\u001b[38;5;241;43m.\u001b[39;49m\u001b[43mstep_wait\u001b[49m\u001b[43m(\u001b[49m\u001b[43m)\u001b[49m\n\u001b[0;32m    182\u001b[0m     \u001b[38;5;28;01massert\u001b[39;00m \u001b[38;5;28misinstance\u001b[39m(obs, (np\u001b[38;5;241m.\u001b[39mndarray, \u001b[38;5;28mdict\u001b[39m))  \u001b[38;5;66;03m# for mypy\u001b[39;00m\n\u001b[0;32m    183\u001b[0m     \u001b[38;5;28mself\u001b[39m\u001b[38;5;241m.\u001b[39mold_obs \u001b[38;5;241m=\u001b[39m obs\n",
      "File \u001b[1;32m~\\AppData\\Local\\Packages\\PythonSoftwareFoundation.Python.3.11_qbz5n2kfra8p0\\LocalCache\\local-packages\\Python311\\site-packages\\stable_baselines3\\common\\vec_env\\dummy_vec_env.py:58\u001b[0m, in \u001b[0;36mDummyVecEnv.step_wait\u001b[1;34m(self)\u001b[0m\n\u001b[0;32m     55\u001b[0m \u001b[38;5;28;01mdef\u001b[39;00m \u001b[38;5;21mstep_wait\u001b[39m(\u001b[38;5;28mself\u001b[39m) \u001b[38;5;241m-\u001b[39m\u001b[38;5;241m>\u001b[39m VecEnvStepReturn:\n\u001b[0;32m     56\u001b[0m     \u001b[38;5;66;03m# Avoid circular imports\u001b[39;00m\n\u001b[0;32m     57\u001b[0m     \u001b[38;5;28;01mfor\u001b[39;00m env_idx \u001b[38;5;129;01min\u001b[39;00m \u001b[38;5;28mrange\u001b[39m(\u001b[38;5;28mself\u001b[39m\u001b[38;5;241m.\u001b[39mnum_envs):\n\u001b[1;32m---> 58\u001b[0m         obs, \u001b[38;5;28mself\u001b[39m\u001b[38;5;241m.\u001b[39mbuf_rews[env_idx], terminated, truncated, \u001b[38;5;28mself\u001b[39m\u001b[38;5;241m.\u001b[39mbuf_infos[env_idx] \u001b[38;5;241m=\u001b[39m \u001b[38;5;28;43mself\u001b[39;49m\u001b[38;5;241;43m.\u001b[39;49m\u001b[43menvs\u001b[49m\u001b[43m[\u001b[49m\u001b[43menv_idx\u001b[49m\u001b[43m]\u001b[49m\u001b[38;5;241;43m.\u001b[39;49m\u001b[43mstep\u001b[49m\u001b[43m(\u001b[49m\n\u001b[0;32m     59\u001b[0m \u001b[43m            \u001b[49m\u001b[38;5;28;43mself\u001b[39;49m\u001b[38;5;241;43m.\u001b[39;49m\u001b[43mactions\u001b[49m\u001b[43m[\u001b[49m\u001b[43menv_idx\u001b[49m\u001b[43m]\u001b[49m\n\u001b[0;32m     60\u001b[0m \u001b[43m        \u001b[49m\u001b[43m)\u001b[49m\n\u001b[0;32m     61\u001b[0m         \u001b[38;5;66;03m# convert to SB3 VecEnv api\u001b[39;00m\n\u001b[0;32m     62\u001b[0m         \u001b[38;5;28mself\u001b[39m\u001b[38;5;241m.\u001b[39mbuf_dones[env_idx] \u001b[38;5;241m=\u001b[39m terminated \u001b[38;5;129;01mor\u001b[39;00m truncated\n",
      "Cell \u001b[1;32mIn[38], line 95\u001b[0m, in \u001b[0;36mNotreal.step\u001b[1;34m(self, action)\u001b[0m\n\u001b[0;32m     93\u001b[0m \u001b[38;5;28;01mif\u001b[39;00m \u001b[38;5;129;01mnot\u001b[39;00m \u001b[38;5;28misinstance\u001b[39m(action, (\u001b[38;5;28mlist\u001b[39m, np\u001b[38;5;241m.\u001b[39mndarray)) \u001b[38;5;129;01mor\u001b[39;00m \u001b[38;5;28mlen\u001b[39m(action) \u001b[38;5;241m!=\u001b[39m \u001b[38;5;241m2\u001b[39m:\n\u001b[0;32m     94\u001b[0m     \u001b[38;5;28mprint\u001b[39m(action)\n\u001b[1;32m---> 95\u001b[0m     \u001b[38;5;28;01mraise\u001b[39;00m \u001b[38;5;167;01mValueError\u001b[39;00m(\u001b[38;5;124m\"\u001b[39m\u001b[38;5;124mAction should be a list or array with exactly 2 values, [L, Fn]\u001b[39m\u001b[38;5;124m\"\u001b[39m)\n\u001b[0;32m     96\u001b[0m \u001b[38;5;66;03m#L, Fn =  self.denormalize_action(action)\u001b[39;00m\n\u001b[0;32m     97\u001b[0m \u001b[38;5;28mprint\u001b[39m(action)\n",
      "\u001b[1;31mValueError\u001b[0m: Action should be a list or array with exactly 2 values, [L, Fn]"
     ]
    }
   ],
   "source": [
    "import matplotlib.pyplot as plt\n",
    "\n",
    "# Initialize lists for storing time steps and actions\n",
    "actions = []\n",
    "time_steps = []\n",
    "model_PPO= PPO.load(\"PPOonNotrealV1.zip\",env=env)\n",
    "# Reset the environment\n",
    "obs = env.reset()[0]\n",
    "\n",
    "# Loop through time steps\n",
    "for t in range(1000):\n",
    "    action, _ = model_PPO.predict(obs)  # Predict action from the model\n",
    "    print(type(action))\n",
    "    obs, reward, done, _, _ = env.step(np.ndarray([120 , 0]))  # Step in the environment with the chosen action\n",
    "    \n",
    "    # Store the current time step and action\n",
    "    time_steps.append(t)\n",
    "    actions.append(action[0])  # Adjust index if the action is multidimensional\n",
    "\n",
    "    # Reset environment if the episode is done\n",
    "    if done:\n",
    "        obs = env.reset()[0]\n",
    "\n",
    "# Plot the actions over time\n",
    "plt.plot(time_steps, actions)\n",
    "plt.xlabel('Time Steps')\n",
    "plt.ylabel('Actions')\n",
    "plt.title('Model Actions Over Time')\n",
    "plt.show()\n"
   ]
  },
  {
   "cell_type": "code",
   "execution_count": null,
   "metadata": {},
   "outputs": [],
   "source": []
  },
  {
   "cell_type": "code",
   "execution_count": 18,
   "metadata": {},
   "outputs": [
    {
     "name": "stdout",
     "output_type": "stream",
     "text": [
      "[120.   0.]\n",
      "(2,)\n"
     ]
    }
   ],
   "source": [
    "action, _ = model_PPO.predict(obs)\n",
    "print(action)  # To confirm the shape and contents of action\n",
    "print(env.action_space.shape)\n"
   ]
  },
  {
   "cell_type": "code",
   "execution_count": 17,
   "metadata": {},
   "outputs": [
    {
     "name": "stdout",
     "output_type": "stream",
     "text": [
      "(array([  0.99998224, 149.80895098,   0.        ]), 0, False, False, {})\n"
     ]
    }
   ],
   "source": [
    "for i in range(1):\n",
    "    action=nodelV3.predict(enviorment_N.reset()[0])\n",
    "    enviorment_N.step(action[0])\n",
    "print(enviorment_N.step(action[0]))\n"
   ]
  },
  {
   "cell_type": "code",
   "execution_count": 25,
   "metadata": {},
   "outputs": [
    {
     "data": {
      "text/plain": [
       "[<matplotlib.lines.Line2D at 0x2c9170ae390>]"
      ]
     },
     "execution_count": 25,
     "metadata": {},
     "output_type": "execute_result"
    },
    {
     "data": {
      "image/png": "[encoded data removed]",
      "text/plain": [
       "<Figure size 640x480 with 1 Axes>"
      ]
     },
     "metadata": {},
     "output_type": "display_data"
    }
   ],
   "source": [
    "#for the sac code\n",
    "a=[]\n",
    "tt=[]\n",
    "obs=enviorment_N.reset()[0]\n",
    "for t in range(10000):\n",
    "    action=nodelV3.predict(obs)\n",
    "    obs, reward, done, _, _ = enviorment_N.step(action[0])\n",
    "    tt.append(t)\n",
    "    a.append((obs[2]))\n",
    "plt.plot(tt,a)\n",
    "    #print(enviorment"
   ]
  },
  {
   "cell_type": "markdown",
   "metadata": {},
   "source": [
    "SO the problem is that the model cant seem to work well before 4k-6k timesteps? "
   ]
  },
  {
   "cell_type": "code",
   "execution_count": 235,
   "metadata": {},
   "outputs": [
    {
     "data": {
      "text/plain": [
       "1024"
      ]
     },
     "execution_count": 235,
     "metadata": {},
     "output_type": "execute_result"
    }
   ],
   "source": []
  },
  {
   "cell_type": "code",
   "execution_count": 138,
   "metadata": {},
   "outputs": [
    {
     "data": {
      "text/plain": [
       "[<matplotlib.lines.Line2D at 0x28a270dd1d0>]"
      ]
     },
     "execution_count": 138,
     "metadata": {},
     "output_type": "execute_result"
    },
    {
     "data": {
      "image/png": "[encoded data removed]",
      "text/plain": [
       "<Figure size 640x480 with 1 Axes>"
      ]
     },
     "metadata": {},
     "output_type": "display_data"
    }
   ],
   "source": []
  },
  {
   "cell_type": "markdown",
   "metadata": {},
   "source": [
    "LETS USE PPO, THIS TIME THE ENVIORMENT IS REWARDED FOR GAIN, AND NEGATIVE REWARDED IF ENV CQ IS ZERO "
   ]
  }
 ],
 "metadata": {
  "kernelspec": {
   "display_name": "Python 3",
   "language": "python",
   "name": "python3"
  },
  "language_info": {
   "codemirror_mode": {
    "name": "ipython",
    "version": 3
   },
   "file_extension": ".py",
   "mimetype": "text/x-python",
   "name": "python",
   "nbconvert_exporter": "python",
   "pygments_lexer": "ipython3",
   "version": "3.11.9"
  }
 },
 "nbformat": 4,
 "nbformat_minor": 2
}
