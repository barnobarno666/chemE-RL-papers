{
 "cells": [
  {
   "cell_type": "code",
   "execution_count": 6,
   "metadata": {},
   "outputs": [],
   "source": [
    "\n",
    "import gymnasium as gym\n",
    "from gymnasium import spaces\n",
    "import numpy as np\n",
    "import random\n",
    "import matplotlib.pyplot as plt\n",
    "from sb3_contrib import  RecurrentPPO\n",
    "from stable_baselines3.common.vec_env import SubprocVecEnv\n"
   ]
  },
  {
   "cell_type": "code",
   "execution_count": 2,
   "metadata": {},
   "outputs": [
    {
     "name": "stdout",
     "output_type": "stream",
     "text": [
      "Collecting sb3-contrib\n",
      "  Obtaining dependency information for sb3-contrib from https://files.pythonhosted.org/packages/40/60/58163d23588509c8c5415f5ad15164dee08e390f2e96802b8d8828f3904e/sb3_contrib-2.3.0-py3-none-any.whl.metadata\n",
      "  Downloading sb3_contrib-2.3.0-py3-none-any.whl.metadata (3.6 kB)\n",
      "Collecting stable-baselines3<3.0,>=2.3.0 (from sb3-contrib)\n",
      "  Obtaining dependency information for stable-baselines3<3.0,>=2.3.0 from https://files.pythonhosted.org/packages/06/6a/c3098a78a63b5a48e18c11d80b8c532f8b7785d6abb1329cfe3034572161/stable_baselines3-2.3.2-py3-none-any.whl.metadata\n",
      "  Downloading stable_baselines3-2.3.2-py3-none-any.whl.metadata (5.1 kB)\n",
      "Requirement already satisfied: gymnasium<0.30,>=0.28.1 in c:\\users\\defaultuser0.laptop-lrb3t941\\appdata\\local\\packages\\pythonsoftwarefoundation.python.3.11_qbz5n2kfra8p0\\localcache\\local-packages\\python311\\site-packages (from stable-baselines3<3.0,>=2.3.0->sb3-contrib) (0.29.1)\n",
      "Requirement already satisfied: numpy>=1.20 in c:\\users\\defaultuser0.laptop-lrb3t941\\appdata\\local\\packages\\pythonsoftwarefoundation.python.3.11_qbz5n2kfra8p0\\localcache\\local-packages\\python311\\site-packages (from stable-baselines3<3.0,>=2.3.0->sb3-contrib) (1.23.5)\n",
      "Requirement already satisfied: torch>=1.13 in c:\\users\\defaultuser0.laptop-lrb3t941\\appdata\\local\\packages\\pythonsoftwarefoundation.python.3.11_qbz5n2kfra8p0\\localcache\\local-packages\\python311\\site-packages (from stable-baselines3<3.0,>=2.3.0->sb3-contrib) (2.0.1)\n",
      "Requirement already satisfied: cloudpickle in c:\\users\\defaultuser0.laptop-lrb3t941\\appdata\\local\\packages\\pythonsoftwarefoundation.python.3.11_qbz5n2kfra8p0\\localcache\\local-packages\\python311\\site-packages (from stable-baselines3<3.0,>=2.3.0->sb3-contrib) (2.2.1)\n",
      "Requirement already satisfied: pandas in c:\\users\\defaultuser0.laptop-lrb3t941\\appdata\\local\\packages\\pythonsoftwarefoundation.python.3.11_qbz5n2kfra8p0\\localcache\\local-packages\\python311\\site-packages (from stable-baselines3<3.0,>=2.3.0->sb3-contrib) (1.4.1)\n",
      "Requirement already satisfied: matplotlib in c:\\users\\defaultuser0.laptop-lrb3t941\\appdata\\local\\packages\\pythonsoftwarefoundation.python.3.11_qbz5n2kfra8p0\\localcache\\local-packages\\python311\\site-packages (from stable-baselines3<3.0,>=2.3.0->sb3-contrib) (3.7.1)\n",
      "Requirement already satisfied: typing-extensions>=4.3.0 in c:\\users\\defaultuser0.laptop-lrb3t941\\appdata\\local\\packages\\pythonsoftwarefoundation.python.3.11_qbz5n2kfra8p0\\localcache\\local-packages\\python311\\site-packages (from gymnasium<0.30,>=0.28.1->stable-baselines3<3.0,>=2.3.0->sb3-contrib) (4.6.3)\n",
      "Requirement already satisfied: farama-notifications>=0.0.1 in c:\\users\\defaultuser0.laptop-lrb3t941\\appdata\\local\\packages\\pythonsoftwarefoundation.python.3.11_qbz5n2kfra8p0\\localcache\\local-packages\\python311\\site-packages (from gymnasium<0.30,>=0.28.1->stable-baselines3<3.0,>=2.3.0->sb3-contrib) (0.0.4)\n",
      "Requirement already satisfied: filelock in c:\\users\\defaultuser0.laptop-lrb3t941\\appdata\\local\\packages\\pythonsoftwarefoundation.python.3.11_qbz5n2kfra8p0\\localcache\\local-packages\\python311\\site-packages (from torch>=1.13->stable-baselines3<3.0,>=2.3.0->sb3-contrib) (3.12.3)\n",
      "Requirement already satisfied: sympy in c:\\users\\defaultuser0.laptop-lrb3t941\\appdata\\local\\packages\\pythonsoftwarefoundation.python.3.11_qbz5n2kfra8p0\\localcache\\local-packages\\python311\\site-packages (from torch>=1.13->stable-baselines3<3.0,>=2.3.0->sb3-contrib) (1.12)\n",
      "Requirement already satisfied: networkx in c:\\users\\defaultuser0.laptop-lrb3t941\\appdata\\local\\packages\\pythonsoftwarefoundation.python.3.11_qbz5n2kfra8p0\\localcache\\local-packages\\python311\\site-packages (from torch>=1.13->stable-baselines3<3.0,>=2.3.0->sb3-contrib) (3.1)\n",
      "Requirement already satisfied: jinja2 in c:\\users\\defaultuser0.laptop-lrb3t941\\appdata\\local\\packages\\pythonsoftwarefoundation.python.3.11_qbz5n2kfra8p0\\localcache\\local-packages\\python311\\site-packages (from torch>=1.13->stable-baselines3<3.0,>=2.3.0->sb3-contrib) (3.1.2)\n",
      "Requirement already satisfied: contourpy>=1.0.1 in c:\\users\\defaultuser0.laptop-lrb3t941\\appdata\\local\\packages\\pythonsoftwarefoundation.python.3.11_qbz5n2kfra8p0\\localcache\\local-packages\\python311\\site-packages (from matplotlib->stable-baselines3<3.0,>=2.3.0->sb3-contrib) (1.1.0)\n",
      "Requirement already satisfied: cycler>=0.10 in c:\\users\\defaultuser0.laptop-lrb3t941\\appdata\\local\\packages\\pythonsoftwarefoundation.python.3.11_qbz5n2kfra8p0\\localcache\\local-packages\\python311\\site-packages (from matplotlib->stable-baselines3<3.0,>=2.3.0->sb3-contrib) (0.11.0)\n",
      "Requirement already satisfied: fonttools>=4.22.0 in c:\\users\\defaultuser0.laptop-lrb3t941\\appdata\\local\\packages\\pythonsoftwarefoundation.python.3.11_qbz5n2kfra8p0\\localcache\\local-packages\\python311\\site-packages (from matplotlib->stable-baselines3<3.0,>=2.3.0->sb3-contrib) (4.40.0)\n",
      "Requirement already satisfied: kiwisolver>=1.0.1 in c:\\users\\defaultuser0.laptop-lrb3t941\\appdata\\local\\packages\\pythonsoftwarefoundation.python.3.11_qbz5n2kfra8p0\\localcache\\local-packages\\python311\\site-packages (from matplotlib->stable-baselines3<3.0,>=2.3.0->sb3-contrib) (1.4.4)\n",
      "Requirement already satisfied: packaging>=20.0 in c:\\users\\defaultuser0.laptop-lrb3t941\\appdata\\local\\packages\\pythonsoftwarefoundation.python.3.11_qbz5n2kfra8p0\\localcache\\local-packages\\python311\\site-packages (from matplotlib->stable-baselines3<3.0,>=2.3.0->sb3-contrib) (23.1)\n",
      "Requirement already satisfied: pillow>=6.2.0 in c:\\users\\defaultuser0.laptop-lrb3t941\\appdata\\local\\packages\\pythonsoftwarefoundation.python.3.11_qbz5n2kfra8p0\\localcache\\local-packages\\python311\\site-packages (from matplotlib->stable-baselines3<3.0,>=2.3.0->sb3-contrib) (9.3.0)\n",
      "Requirement already satisfied: pyparsing>=2.3.1 in c:\\users\\defaultuser0.laptop-lrb3t941\\appdata\\local\\packages\\pythonsoftwarefoundation.python.3.11_qbz5n2kfra8p0\\localcache\\local-packages\\python311\\site-packages (from matplotlib->stable-baselines3<3.0,>=2.3.0->sb3-contrib) (3.0.9)\n",
      "Requirement already satisfied: python-dateutil>=2.7 in c:\\users\\defaultuser0.laptop-lrb3t941\\appdata\\local\\packages\\pythonsoftwarefoundation.python.3.11_qbz5n2kfra8p0\\localcache\\local-packages\\python311\\site-packages (from matplotlib->stable-baselines3<3.0,>=2.3.0->sb3-contrib) (2.8.2)\n",
      "Requirement already satisfied: pytz>=2020.1 in c:\\users\\defaultuser0.laptop-lrb3t941\\appdata\\local\\packages\\pythonsoftwarefoundation.python.3.11_qbz5n2kfra8p0\\localcache\\local-packages\\python311\\site-packages (from pandas->stable-baselines3<3.0,>=2.3.0->sb3-contrib) (2023.3)\n",
      "Requirement already satisfied: six>=1.5 in c:\\users\\defaultuser0.laptop-lrb3t941\\appdata\\local\\packages\\pythonsoftwarefoundation.python.3.11_qbz5n2kfra8p0\\localcache\\local-packages\\python311\\site-packages (from python-dateutil>=2.7->matplotlib->stable-baselines3<3.0,>=2.3.0->sb3-contrib) (1.16.0)\n",
      "Requirement already satisfied: MarkupSafe>=2.0 in c:\\users\\defaultuser0.laptop-lrb3t941\\appdata\\local\\packages\\pythonsoftwarefoundation.python.3.11_qbz5n2kfra8p0\\localcache\\local-packages\\python311\\site-packages (from jinja2->torch>=1.13->stable-baselines3<3.0,>=2.3.0->sb3-contrib) (2.1.3)\n",
      "Requirement already satisfied: mpmath>=0.19 in c:\\users\\defaultuser0.laptop-lrb3t941\\appdata\\local\\packages\\pythonsoftwarefoundation.python.3.11_qbz5n2kfra8p0\\localcache\\local-packages\\python311\\site-packages (from sympy->torch>=1.13->stable-baselines3<3.0,>=2.3.0->sb3-contrib) (1.3.0)\n",
      "Downloading sb3_contrib-2.3.0-py3-none-any.whl (80 kB)\n",
      "   ---------------------------------------- 0.0/80.3 kB ? eta -:--:--\n",
      "   ----- ---------------------------------- 10.2/80.3 kB ? eta -:--:--\n",
      "   -------------------- ------------------- 41.0/80.3 kB 653.6 kB/s eta 0:00:01\n",
      "   ---------------------------------------- 80.3/80.3 kB 898.3 kB/s eta 0:00:00\n",
      "Downloading stable_baselines3-2.3.2-py3-none-any.whl (182 kB)\n",
      "   ---------------------------------------- 0.0/182.3 kB ? eta -:--:--\n",
      "   ----------------------------- ---------- 133.1/182.3 kB 2.6 MB/s eta 0:00:01\n",
      "   ---------------------------------------- 182.3/182.3 kB 2.7 MB/s eta 0:00:00\n",
      "Installing collected packages: stable-baselines3, sb3-contrib\n",
      "  Attempting uninstall: stable-baselines3\n",
      "    Found existing installation: stable-baselines3 2.2.1\n",
      "    Uninstalling stable-baselines3-2.2.1:\n",
      "      Successfully uninstalled stable-baselines3-2.2.1\n",
      "Successfully installed sb3-contrib-2.3.0 stable-baselines3-2.3.2\n"
     ]
    },
    {
     "name": "stderr",
     "output_type": "stream",
     "text": [
      "\n",
      "[notice] A new release of pip is available: 23.2.1 -> 24.2\n",
      "[notice] To update, run: C:\\Users\\defaultuser0.LAPTOP-LRB3T941\\AppData\\Local\\Microsoft\\WindowsApps\\PythonSoftwareFoundation.Python.3.11_qbz5n2kfra8p0\\python.exe -m pip install --upgrade pip\n"
     ]
    }
   ],
   "source": [
    "#!pip install sb3-contrib"
   ]
  },
  {
   "cell_type": "code",
   "execution_count": 7,
   "metadata": {},
   "outputs": [],
   "source": [
    "\n",
    "class SDEEnv_train_3(gym.Env):\n",
    "    \"\"\" stochasticity added ,also tuned the rewards more, and also has a fixed episode length\"\"\"\n",
    "    def __init__(self):\n",
    "        super(SDEEnv_train_3, self).__init__()\n",
    "        # State is [y1, y2]\n",
    "        self.observation_space = spaces.Box(low=0, high=np.inf, shape=(2,), dtype=np.float32)\n",
    "        \n",
    "        # Actions are [u1, u2], both in some control range\n",
    "        self.action_space = spaces.Box(low=0, high=10, shape=(2,), dtype=np.float32)\n",
    "        \n",
    "        # Time step for numerical integration\n",
    "        self.dt = 0.1\n",
    "        \n",
    "        # Initial values for state variables y1 and y2\n",
    "        self.state = np.array([.1, .1])\n",
    "        self.episode_length = 100000  # Maximum episode length\n",
    "        self.current_step= 0\n",
    "        \n",
    "    def reset(self,seed = None,options = None):\n",
    "        # Reset the state to initial values\n",
    "        self.state = np.array([0.1, 0.1])\n",
    "        self.current_step = 0\n",
    "        return self.state\n",
    "\n",
    "    def step(self, action):\n",
    "        u1, u2 = action\n",
    "        y1, y2 = self.state\n",
    "        \n",
    "        dt = self.dt\n",
    "        \n",
    "        # Deterministic part of the system (first equation)\n",
    "        dy1 = ( -1*(u1 + 0.5 * u1**2 )* y1 + 0.5 * u2 * y2 / (y1 + y2) ) * dt\n",
    "        \n",
    "        # Stochastic part of the second equation\n",
    "        dW = np.random.normal(0, np.sqrt(dt))  # Wiener process for stochastic term\n",
    "        dy2 = (u1 * y1 - 0.7 * u2 * y1) * dt  #+ 0*(0.1 * np.sqrt(y1) ) * dW\n",
    "        \n",
    "        \n",
    "        # Update states\n",
    "        y1 += dy1\n",
    "        y2 += dy2\n",
    "        \n",
    "        # Ensure non-negative concentrations\n",
    "        #y1 = max(0, y1)\n",
    "        #y2 = max(0, y2)\n",
    "        \n",
    "        self.state = np.array([y1, y2])\n",
    "        \n",
    "        # Reward is based on maximizing y2\n",
    "        # if y2<0.2:\n",
    "        #     reward= -1 + y2*5\n",
    "        # else:\n",
    "        #     reward = y2*5       \n",
    "        reward = y2\n",
    "        # Done if the system has run too long or if values go out of bounds\n",
    "        done = False\n",
    "        \n",
    "        if y1 < 0 or y2 < 0:\n",
    "            reward = -100\n",
    "            done = True\n",
    "            \n",
    "        self.current_step += 1\n",
    "        \n",
    "        if self.current_step >= self.episode_length:\n",
    "            done = True\n",
    "        \n",
    "        #so terminate when exceeds episode length \n",
    "        \n",
    "        return self.state, reward, done, False, {}\n",
    "\n",
    "    def render(self):\n",
    "        # Optional rendering for visualization, not essential\n",
    "        print(f\"State: y1={self.state[0]}, y2={self.state[1]}\")\n"
   ]
  },
  {
   "cell_type": "code",
   "execution_count": 9,
   "metadata": {},
   "outputs": [],
   "source": [
    "enviorment=SDEEnv_train_3()\n",
    "model_RPPO=RecurrentPPO(\"MlpLstmPolicy\", enviorment, verbose=0, tensorboard_log=\"/ppo_recurrent_tensorboard/\")"
   ]
  },
  {
   "cell_type": "code",
   "execution_count": null,
   "metadata": {},
   "outputs": [
    {
     "data": {
      "application/vnd.jupyter.widget-view+json": {
       "model_id": "8a6678eb35944098a059c681c7907bf3",
       "version_major": 2,
       "version_minor": 0
      },
      "text/plain": [
       "Output()"
      ]
     },
     "metadata": {},
     "output_type": "display_data"
    }
   ],
   "source": [
    "model_RPPO.learn(total_timesteps=500000 ,progress_bar=True)\n",
    "model_RPPO.save(\"RecurrentPPO_V1.zip\")\n",
    "model_RPPO.learn(total_timesteps=500000,progress_bar=True)\n",
    "model_RPPO.save(\"RecurrentPPO_V2.zip\")\n"
   ]
  },
  {
   "cell_type": "code",
   "execution_count": null,
   "metadata": {},
   "outputs": [],
   "source": []
  }
 ],
 "metadata": {
  "kernelspec": {
   "display_name": "Python 3",
   "language": "python",
   "name": "python3"
  },
  "language_info": {
   "codemirror_mode": {
    "name": "ipython",
    "version": 3
   },
   "file_extension": ".py",
   "mimetype": "text/x-python",
   "name": "python",
   "nbconvert_exporter": "python",
   "pygments_lexer": "ipython3",
   "version": "3.11.9"
  }
 },
 "nbformat": 4,
 "nbformat_minor": 2
}
